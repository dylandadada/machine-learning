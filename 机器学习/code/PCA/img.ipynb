{
 "cells": [
  {
   "cell_type": "code",
   "execution_count": 1,
   "metadata": {},
   "outputs": [],
   "source": [
    "from PIL import Image\n",
    "import numpy as np"
   ]
  },
  {
   "cell_type": "code",
   "execution_count": 2,
   "metadata": {},
   "outputs": [],
   "source": [
    "for i in range(60):\n",
    "    j = str(i+396)\n",
    "    infile = \"RGB/\"+j+\".jpg\"\n",
    "    outfile = \"GSI/\"+str(i)+\".jpg\"\n",
    "    \n",
    "    im = Image.open(infile).convert(\"L\")\n",
    "    im = im.resize((256,256),Image.ANTIALIAS)\n",
    "    im.save(outfile)"
   ]
  },
  {
   "cell_type": "code",
   "execution_count": 3,
   "metadata": {},
   "outputs": [
    {
     "name": "stdout",
     "output_type": "stream",
     "text": [
      "[[247 250 254 ... 239 239 239]\n",
      " [250 248 254 ... 239 239 239]\n",
      " [254 247 251 ... 239 239 239]\n",
      " ...\n",
      " [174 162 154 ... 220 223 225]\n",
      " [138 148 145 ... 222 223 224]\n",
      " [ 91  66  37 ... 223 223 222]]\n"
     ]
    }
   ],
   "source": [
    "for i in range(1):\n",
    "    outfile = \"GSI/\"+str(i)+\".jpg\"\n",
    "    im = Image.open(outfile)\n",
    "    temp = np.array(im)\n",
    "    print(temp)"
   ]
  }
 ],
 "metadata": {
  "kernelspec": {
   "display_name": "Python 3",
   "language": "python",
   "name": "python3"
  },
  "language_info": {
   "codemirror_mode": {
    "name": "ipython",
    "version": 3
   },
   "file_extension": ".py",
   "mimetype": "text/x-python",
   "name": "python",
   "nbconvert_exporter": "python",
   "pygments_lexer": "ipython3",
   "version": "3.7.0"
  },
  "varInspector": {
   "cols": {
    "lenName": 16,
    "lenType": 16,
    "lenVar": 40
   },
   "kernels_config": {
    "python": {
     "delete_cmd_postfix": "",
     "delete_cmd_prefix": "del ",
     "library": "var_list.py",
     "varRefreshCmd": "print(var_dic_list())"
    },
    "r": {
     "delete_cmd_postfix": ") ",
     "delete_cmd_prefix": "rm(",
     "library": "var_list.r",
     "varRefreshCmd": "cat(var_dic_list()) "
    }
   },
   "types_to_exclude": [
    "module",
    "function",
    "builtin_function_or_method",
    "instance",
    "_Feature"
   ],
   "window_display": false
  }
 },
 "nbformat": 4,
 "nbformat_minor": 2
}
