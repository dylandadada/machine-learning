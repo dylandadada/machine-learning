{
 "cells": [
  {
   "cell_type": "code",
   "execution_count": 1,
   "metadata": {},
   "outputs": [],
   "source": [
    "import numpy as np"
   ]
  },
  {
   "cell_type": "markdown",
   "metadata": {},
   "source": [
    "### numpy属性"
   ]
  },
  {
   "cell_type": "code",
   "execution_count": 2,
   "metadata": {},
   "outputs": [
    {
     "name": "stdout",
     "output_type": "stream",
     "text": [
      "[[1 2 3]\n",
      " [4 5 6]]\n",
      "矩阵的维度是： 2\n",
      "矩阵的形状： (2, 3)\n",
      "矩阵的大小即元素个数： 6\n"
     ]
    }
   ],
   "source": [
    "array = np.array([[1, 2, 3], [4, 5, 6]])\n",
    "print(array)\n",
    "print(\"矩阵的维度是：\", array.ndim)\n",
    "print(\"矩阵的形状：\", array.shape)\n",
    "print(\"矩阵的大小即元素个数：\", array.size)"
   ]
  },
  {
   "cell_type": "markdown",
   "metadata": {},
   "source": [
    "### numpy创建array"
   ]
  },
  {
   "cell_type": "code",
   "execution_count": 3,
   "metadata": {},
   "outputs": [
    {
     "name": "stdout",
     "output_type": "stream",
     "text": [
      "[ 2 23  4]\n",
      "矩阵中数据的类型为： int32\n",
      "[[0. 0. 0. 0.]\n",
      " [0. 0. 0. 0.]\n",
      " [0. 0. 0. 0.]]\n",
      "[[1 1 1 1]\n",
      " [1 1 1 1]\n",
      " [1 1 1 1]]\n",
      "[[0. 0. 0. 0.]\n",
      " [0. 0. 0. 0.]\n",
      " [0. 0. 0. 0.]]\n",
      "[[ 0  1  2  3]\n",
      " [ 4  5  6  7]\n",
      " [ 8  9 10 11]]\n",
      "[[ 1.  4.]\n",
      " [ 7. 10.]]\n"
     ]
    }
   ],
   "source": [
    "a = np.array([2, 23, 4])\n",
    "b = np.array([2, 22, 3], dtype=np.int)\n",
    "c = np.zeros((3, 4))\n",
    "d = np.ones((3, 4), dtype=np.int16)\n",
    "e = np.empty((3, 4))\n",
    "f = np.arange(12).reshape((3, 4))\n",
    "g = np.linspace(1, 10, 4).reshape((2, 2))\n",
    "\n",
    "print(a)\n",
    "print(\"矩阵中数据的类型为：\", b.dtype)\n",
    "print(c)\n",
    "print(d)\n",
    "print(e)\n",
    "print(f)\n",
    "print(g)"
   ]
  },
  {
   "cell_type": "markdown",
   "metadata": {},
   "source": [
    "### numpy基础运算"
   ]
  },
  {
   "cell_type": "code",
   "execution_count": 4,
   "metadata": {},
   "outputs": [
    {
     "name": "stdout",
     "output_type": "stream",
     "text": [
      "[10 20 30 40]\n",
      "[0 1 2 3]\n",
      "[10 19 28 37]\n",
      "[10 21 32 43]\n",
      "[0 1 4 9]\n",
      "[-5.44021111  9.12945251 -9.88031624  7.4511316 ]\n",
      "在b中有哪些是小于三的： [ True  True  True False]\n"
     ]
    }
   ],
   "source": [
    "a = np.array([10, 20, 30, 40])\n",
    "b = np.arange(4)\n",
    "c = a - b\n",
    "d = a + b\n",
    "e = b**2\n",
    "f = 10 * np.sin(a)\n",
    "\n",
    "print(a)\n",
    "print(b)\n",
    "print(c)\n",
    "print(d)\n",
    "print(e)\n",
    "print(f)\n",
    "print(\"在b中有哪些是小于三的：\", b < 3)"
   ]
  },
  {
   "cell_type": "code",
   "execution_count": 5,
   "metadata": {},
   "outputs": [
    {
     "name": "stdout",
     "output_type": "stream",
     "text": [
      "[[1 1]\n",
      " [0 1]]\n",
      "[[0 1]\n",
      " [2 3]]\n",
      "逐个相乘：\n",
      " [[0 1]\n",
      " [0 3]]\n",
      "矩阵乘法：\n",
      " [[2 4]\n",
      " [2 3]]\n",
      "矩阵乘法：\n",
      " [[2 4]\n",
      " [2 3]]\n"
     ]
    }
   ],
   "source": [
    "a = np.array([[1, 1], [0, 1]])\n",
    "b = np.arange(4).reshape((2, 2))\n",
    "\n",
    "print(a)\n",
    "print(b)\n",
    "print(\"逐个相乘：\\n\", a * b)\n",
    "print(\"矩阵乘法：\\n\", np.dot(a, b))\n",
    "print(\"矩阵乘法：\\n\", a.dot(b))"
   ]
  },
  {
   "cell_type": "code",
   "execution_count": 6,
   "metadata": {
    "scrolled": true
   },
   "outputs": [
    {
     "name": "stdout",
     "output_type": "stream",
     "text": [
      "[[0.07959611 0.03901448 0.23095924 0.40407398]\n",
      " [0.18753437 0.35598013 0.2423272  0.3662278 ]]\n",
      "1.9057133165701976\n",
      "0.03901448355252579\n",
      "0.40407397859103944\n",
      "[0.75364381 1.1520695 ]\n",
      "[0.07959611 0.03901448 0.23095924 0.3662278 ]\n"
     ]
    }
   ],
   "source": [
    "#产生一个由0到1的随机数生成的矩阵\n",
    "a = np.random.random((2, 4))\n",
    "\n",
    "#各种统计数据\n",
    "print(a)\n",
    "print(np.sum(a))\n",
    "print(np.min(a))\n",
    "print(np.max(a))\n",
    "#axis代表在哪个维度上进行\n",
    "print(np.sum(a, axis=1))\n",
    "print(np.min(a, axis=0))"
   ]
  },
  {
   "cell_type": "markdown",
   "metadata": {},
   "source": [
    "### numpy高级基础运算"
   ]
  },
  {
   "cell_type": "code",
   "execution_count": 7,
   "metadata": {},
   "outputs": [
    {
     "ename": "SyntaxError",
     "evalue": "invalid syntax (<ipython-input-7-7212f92756cc>, line 16)",
     "output_type": "error",
     "traceback": [
      "\u001b[1;36m  File \u001b[1;32m\"<ipython-input-7-7212f92756cc>\"\u001b[1;36m, line \u001b[1;32m16\u001b[0m\n\u001b[1;33m    print(\"A中所有元素的和：\"A.sum())\u001b[0m\n\u001b[1;37m                     ^\u001b[0m\n\u001b[1;31mSyntaxError\u001b[0m\u001b[1;31m:\u001b[0m invalid syntax\n"
     ]
    }
   ],
   "source": [
    "A = np.arange(14,2,-1).reshape((3,4))\n",
    "\n",
    "print(A)\n",
    "print(\"矩阵中最小值的索引：\",np.argmin(A))\n",
    "print(\"矩阵中最大值的索引：\",np.argmax(A))\n",
    "print(\"矩阵的平均值：\",np.mean(A))\n",
    "print(\"矩阵的平均值：\",np.average(A))\n",
    "print(\"矩阵的中位数：\",np.median(A))\n",
    "print(\"矩阵的累加：\",np.cumsum(A))\n",
    "print(\"矩阵每两个数的差：\",np.diff(A))\n",
    "print(\"多个array代表所有非零数的位置：\",np.nonzero(A))\n",
    "print(\"排序：\\n\",np.sort(A))\n",
    "print(\"转置：\\n\",np.transpose(A))\n",
    "print((A.T).dot(A))\n",
    "print(\"如下：\\n\",np.clip(A,5,9))\n",
    "print(\"A中所有元素的和：\"A.sum())"
   ]
  },
  {
   "cell_type": "markdown",
   "metadata": {},
   "source": [
    "### numpy索引"
   ]
  },
  {
   "cell_type": "code",
   "execution_count": 8,
   "metadata": {},
   "outputs": [
    {
     "name": "stdout",
     "output_type": "stream",
     "text": [
      "np.arange的索引：\n",
      "[ 3  4  5  6  7  8  9 10 11 12 13 14]\n",
      "6\n",
      "\n",
      "reshape之后的索引：\n",
      "[[ 3  4  5  6]\n",
      " [ 7  8  9 10]\n",
      " [11 12 13 14]]\n",
      "[11 12 13 14]\n",
      "8\n",
      "8\n",
      "[11 12 13 14]\n",
      "[ 4  8 12]\n",
      "[12]\n",
      "[3 4 5 6]\n",
      "[ 7  8  9 10]\n",
      "[11 12 13 14]\n",
      "[ 3  7 11]\n",
      "[ 4  8 12]\n",
      "[ 5  9 13]\n",
      "[ 6 10 14]\n",
      "[ 3  4  5  6  7  8  9 10 11 12 13 14]\n",
      "3\n",
      "4\n",
      "5\n",
      "6\n",
      "7\n",
      "8\n",
      "9\n",
      "10\n",
      "11\n",
      "12\n",
      "13\n",
      "14\n",
      "\n",
      "np.linspace的索引:\n",
      "[ 0.  5. 10. 15. 20.]\n",
      "0.0\n",
      "5.0\n",
      "10.0\n",
      "15.0\n",
      "20.0\n",
      "0.0\n",
      "5.0\n",
      "10.0\n",
      "15.0\n",
      "20.0\n",
      "\n",
      "np.array的索引:\n",
      "[0 1 2 3 4 5 6 7 8 9]\n",
      "0\n",
      "[0 1 2 3 4 5 6 7 8 9]\n",
      "1\n",
      "[0 1 2 3 4 5 6 7 8 9]\n",
      "2\n",
      "[0 1 2 3 4 5 6 7 8 9]\n",
      "3\n",
      "[0 1 2 3 4 5 6 7 8 9]\n",
      "4\n",
      "[0 1 2 3 4 5 6 7 8 9]\n",
      "5\n",
      "[0 1 2 3 4 5 6 7 8 9]\n",
      "6\n",
      "[0 1 2 3 4 5 6 7 8 9]\n",
      "7\n",
      "[0 1 2 3 4 5 6 7 8 9]\n",
      "8\n",
      "[0 1 2 3 4 5 6 7 8 9]\n",
      "9\n",
      "[0 1 2 3 4 5 6 7 8 9]\n",
      "0\n",
      "1\n",
      "2\n",
      "3\n",
      "4\n",
      "5\n",
      "6\n",
      "7\n",
      "8\n",
      "9\n",
      "\n",
      "np.ones的索引：\n",
      "[[1.]\n",
      " [1.]\n",
      " [1.]\n",
      " [1.]\n",
      " [1.]\n",
      " [1.]\n",
      " [1.]\n",
      " [1.]\n",
      " [1.]]\n",
      "[1.]\n",
      "[1.]\n",
      "[1.]\n",
      "[1.]\n",
      "[1.]\n",
      "[1.]\n",
      "[1.]\n",
      "[1.]\n",
      "[1.]\n",
      "[1.]\n",
      "[1.]\n",
      "[1.]\n",
      "[1.]\n",
      "[1.]\n",
      "[1.]\n",
      "[1.]\n",
      "[1.]\n",
      "[1.]\n",
      "1.0\n",
      "1.0\n",
      "1.0\n",
      "1.0\n",
      "1.0\n",
      "1.0\n",
      "1.0\n",
      "1.0\n",
      "1.0\n"
     ]
    }
   ],
   "source": [
    "a = np.arange(3,15)\n",
    "b = a.reshape((3,4))\n",
    "c = np.linspace(0,20,5)\n",
    "d = np.array(range(10))\n",
    "e = np.ones((9,1))\n",
    "\n",
    "print(\"np.arange的索引：\")\n",
    "print(a)\n",
    "print(a[3])\n",
    "print(\"\\nreshape之后的索引：\")\n",
    "print(b)\n",
    "print(b[2])\n",
    "print(b[1,1])\n",
    "print(b[1][1])\n",
    "print(b[2,:])\n",
    "print(b[:,1])\n",
    "print(b[2,1:2])\n",
    "for row in b:\n",
    "    print(row)\n",
    "for column in b.T:\n",
    "    print(column)\n",
    "print(b.flatten())\n",
    "for item in b.flat:\n",
    "    print(item)\n",
    "print(\"\\nnp.linspace的索引:\")\n",
    "print(c)\n",
    "for i in c:\n",
    "    print(i)\n",
    "for i in range(5):\n",
    "    print(c[i])\n",
    "print(\"\\nnp.array的索引:\")\n",
    "print(d)\n",
    "for i in d:\n",
    "    print(i)\n",
    "    print(d)\n",
    "for i in range(10):\n",
    "    print(d[i])\n",
    "print(\"\\nnp.ones的索引：\")\n",
    "print(e)\n",
    "for i in e:\n",
    "    print(i)\n",
    "for i in range(9):\n",
    "    print(e[i])\n",
    "for i in range(9):\n",
    "    print(e[i][0])"
   ]
  }
 ],
 "metadata": {
  "kernelspec": {
   "display_name": "Python 3",
   "language": "python",
   "name": "python3"
  },
  "language_info": {
   "codemirror_mode": {
    "name": "ipython",
    "version": 3
   },
   "file_extension": ".py",
   "mimetype": "text/x-python",
   "name": "python",
   "nbconvert_exporter": "python",
   "pygments_lexer": "ipython3",
   "version": "3.7.0"
  }
 },
 "nbformat": 4,
 "nbformat_minor": 2
}
